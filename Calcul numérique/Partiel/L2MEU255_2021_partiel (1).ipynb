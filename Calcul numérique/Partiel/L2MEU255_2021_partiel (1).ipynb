{
 "cells": [
  {
   "cell_type": "code",
   "execution_count": 1,
   "metadata": {},
   "outputs": [],
   "source": [
    "%matplotlib inline\n",
    "%config InlineBackend.figure_format = 'retina'\n",
    "\n",
    "import numpy as np                       # pour les numpy array\n",
    "import matplotlib.pyplot as plt          # librairie graphique"
   ]
  },
  {
   "cell_type": "markdown",
   "metadata": {},
   "source": [
    "# IMPORTANT\n",
    "---\n",
    "> Durée de l'épreuve 1h30.<br>\n",
    "> Les documents, les calculatrices et les téléphones portables sont interdits.<br>\n",
    "> Le barème proposé est *indicatif*.<br>\n",
    "> Toute réponse devra être justifiée.<br>\n",
    "> Toutes les fonctions que vous proposerez devront contenir des commentaires même succints.\n",
    "---\n",
    "> Pour certaines questions théoriques, vous devrez répondre sur votre copie en précisant bien le numéro de la question. Pour les questions numériques, vous devez compléter le notebook.\n",
    "---\n",
    "> Lorsque vous aurez terminer l'épreuve, vous devez **sauvegarder votre travail** en cliquant sur la petite disquette en haut à gauche puis **quitter le notebook** en cliquant sur `file` puis `close and halt`.<br>\n",
    "> Puis vous devez quitter `jupyter-notebook` en retournant dans le `terminal` et en suivant les instructions : `CTRL+C` suivi de `y`."
   ]
  },
  {
   "cell_type": "markdown",
   "metadata": {},
   "source": [
    "# Partie A: modèles dynamiques et schémas pour EDOs"
   ]
  },
  {
   "cell_type": "markdown",
   "metadata": {},
   "source": [
    "On cherche à étudier l’évolution au cours du temps de la concentration $ x(t) $ d'une protéine X."
   ]
  },
  {
   "cell_type": "markdown",
   "metadata": {},
   "source": [
    "**Exercice 1.** (1 pt)\n",
    "\n",
    "On suppose qu'à chaque instant la protéine X est dégradée par des protéases. La vitesse de dégradation à l'instant $ t $ est proportionnelle à la concentration de la protéine $ x(t) $ et à une constante $ k_d $.\n",
    "> 1. Ecrire l'équation différentielle satisfaite par $ x $. Comment s'appèlle se type de modèle en dynamique de populations? Donner la solution de cette équation en terme de $ k_d $ et de $ x( 0 ) $, la concentration initiale de la protéine X."
   ]
  },
  {
   "cell_type": "code",
   "execution_count": null,
   "metadata": {},
   "outputs": [],
   "source": [
    "## Utilisez votre copie\n",
    "\n"
   ]
  },
  {
   "cell_type": "markdown",
   "metadata": {},
   "source": [
    "**Exercice 2.** (3 pts)\n",
    "\n",
    "On suppose maintenant que la protéine X est synthétisée à une vitesse constante $ k_0 $ et donc la concentration $ x $ est décrite par le problème de Cauchy suivant:\n",
    "\\begin{equation*}\n",
    "\\left\\lbrace\n",
    "\\begin{aligned} \n",
    "& x'( t ) = k_0 - k_d x( t ), && t>0,\\\\\n",
    "& x( 0 ) = x_0. \n",
    "\\end{aligned} \\right. \\qquad ( P_X )\n",
    "\\end{equation*}\n",
    "\n",
    "> 1. Vérifier que la fonction $ x_{ex}: t \\mapsto \\frac{k_0}{k_d} + \\bigl( x_0 - \\frac{k_0}{k_d} \\bigr) e^{ - k_d t } $ est la solution exacte de $ (P_X) $.\n"
   ]
  },
  {
   "cell_type": "code",
   "execution_count": 7,
   "metadata": {},
   "outputs": [],
   "source": [
    "## Utilisez votre copie\n"
   ]
  },
  {
   "cell_type": "markdown",
   "metadata": {},
   "source": [
    "Dans la suite de cet exercice, on supposera que $ k_0 = 6 $ (par minute), $ k_d = 5 $ (par minute et par mole de X).\n",
    "\n",
    "> 2. Proposez une fonction `sol_exacte` qui prend en argument un tableau `t` et un nombre `x0` et retourne l'évaluation de la fonction $ x_{ex} $ aux points `t`.  Représentez graphiquement cette fonction pour $x_0 = 1$ sur l'intervalle $[0,T]$ avec $T=16$. \n"
   ]
  },
  {
   "cell_type": "code",
   "execution_count": 2,
   "metadata": {},
   "outputs": [],
   "source": [
    "def sol_exacte(t, x0):\n",
    "    \"\"\"solution exacte\"\"\"\n",
    "    ## COMPLETEZ"
   ]
  },
  {
   "cell_type": "code",
   "execution_count": 3,
   "metadata": {},
   "outputs": [],
   "source": [
    "k0 = 6\n",
    "kd = 5\n",
    "T = 16\n",
    "x0 = 1\n",
    "\n",
    "## COMPLETEZ  \n"
   ]
  },
  {
   "cell_type": "markdown",
   "metadata": {},
   "source": [
    "**Exercice 3.** (7 pts) \n",
    "\n",
    "Considérons le problème de Cauchy\n",
    "\\begin{equation*}\\left\\lbrace\n",
    "\\begin{aligned}\n",
    "& x'( t ) = f( t, x( t ) ), &&t>0,\\\\\n",
    "& x( 0 ) = x_0.\n",
    "\\end{aligned}\\right.\n",
    "\\end{equation*}\n",
    "Le *theta-schéma* consiste à construire la suite $ x^n $ des valeurs approchées de $ x( t^n ) $, $ n = 0, 1, \\ldots, N $, via les relations suivantes, où $\\theta \\in [0,1]$:\n",
    "\n",
    "\\begin{equation*}\n",
    "x^0 = x_0, \\quad x^{ n+1 } = x^n + \\Delta t \\left( (1 - \\theta)  f( t^{ n }, x^{ n } ) + \\theta f( t^{ n+1 }, x^{ n+1 } )\\right). \\quad (S_{\\theta}) \n",
    "\\end{equation*}\n",
    "> 1. Pour quelle valeur de $\\theta$ a-t-on la méthode d'Euler explicite ?\n",
    "> 2. Pour quelle valeur de $\\theta$ a-t-on la méthode d'Euler implicite définie par :\n",
    "\\begin{equation*}\n",
    "x^0 = x_0, \\quad x^{ n+1 } = x^n + \\Delta t f( t^{ n+1 }, x^{ n+1 } ).\\quad (E_{impl})\n",
    "\\end{equation*}\n",
    "> 3. Pour la fonction $ f $ définie par $ f( t, x ) = k_0 - k_d x $ écrivez la relation qui donne $x^{n+1}$ en fonction de $x^n$ pour le theta-schéma $(S_{\\theta})$.\n",
    "> 4. Programmez la méthode *theta-schema* afin de calculer la solution approchée du problème de Cauchy $(P_X)$. On écrira une fonction `theta_schema` qui prend en argument un nombre `x0` (la valeur initiale de la concentration), un nombre `T` (la longueur de l'intervalle de temps), un nombre $ N $ (le nombre de points), \n",
    "et un nombre `theta` (dans l'intervalle $[0,1]$), et qui retourne deux tableaux : `t`, constitué des instants $ 0, \\Delta t, 2 \\Delta t, \\ldots, N \\Delta t $, avec $ \\Delta t = T / N $, et `x`, constitué des valeurs de la solution approchée en ces instants.\n",
    "> 5. Pour chacune des méthodes d'Euler explicite et d'Euler implicite, tracez sur un même graphique, la solution exacte et les solutions approchées du problème $(P_X)$ pour les valeurs du pas de temps $\\Delta t = 0.15,\\, 0.39,\\,  0.4, \\,  0.41$. \n",
    "Commentez le graphique obtenu. Pour trouver une solution approchée de $(P_X)$ quelle méthode numérique choisiriez-vous ? Expliquez votre choix.\n",
    "> 6. Lorsque $\\theta = \\frac{1}{2}$  le schéma $(S_{\\theta})$ est appelé schéma de *Crank-Nicolson*. Pour deux des valeurs de $\\Delta t$ ci-dessus, representez sur un même graphique, la solution exacte, \n",
    "et les solutions approchées obtenues par le schéma de Crank-Nicolson et par votre schéma choisi à la question 5. ci-dessus. Quel schéma preferez-vous ?  \n"
   ]
  },
  {
   "cell_type": "code",
   "execution_count": null,
   "metadata": {},
   "outputs": [],
   "source": [
    "# UTILISEZ VOTRE COPIE  POUR LES QUESTIONS 1, 2, 3"
   ]
  },
  {
   "cell_type": "code",
   "execution_count": 4,
   "metadata": {},
   "outputs": [],
   "source": [
    "# QUESTION 4\n",
    "\n",
    "def theta_schema(x0, T, N, theta):\n",
    "    \"\"\"\n",
    "    theta schéma \n",
    "    \n",
    "    Parameters\n",
    "    ----------\n",
    "    \n",
    "    x0: float\n",
    "        donnée initiale\n",
    "    T: float\n",
    "        instant final\n",
    "    N: int\n",
    "        nombre de pas de temps\n",
    "    theta: float\n",
    "       nombre identifiant le schéma; Il est compris entre 0 et 1 et peut prendre ces valeurs   \n",
    "        \n",
    "    Returns\n",
    "    -------\n",
    "    \n",
    "    t: ndarray\n",
    "        les instants où la solution approchée est calculée\n",
    "    x: ndarray\n",
    "        les valeurs de la solution approchée par le schéma d'Euler implicite\n",
    "    \"\"\"\n",
    "    \n",
    "    ## COMPLETEZ \n",
    "    \n",
    "    "
   ]
  },
  {
   "cell_type": "code",
   "execution_count": 5,
   "metadata": {},
   "outputs": [],
   "source": [
    "# QUESTION 5\n",
    "\n",
    "k0 = 6\n",
    "kd = 5\n",
    "delta_ts = [0.15, 0.39, 0.4, 0.41]\n",
    "T = 16\n",
    "x0 = 1\n",
    "\n",
    "\n",
    "## COMPLETEZ \n",
    "\n",
    "\n"
   ]
  },
  {
   "cell_type": "code",
   "execution_count": 6,
   "metadata": {},
   "outputs": [],
   "source": [
    "## COMPLETEZ POUR LA QUESTION 6\n",
    "\n",
    "\n"
   ]
  },
  {
   "cell_type": "markdown",
   "metadata": {},
   "source": [
    "# Partie B: interpolation"
   ]
  },
  {
   "cell_type": "markdown",
   "metadata": {},
   "source": [
    "**Exercice 1.** (4,5 pts)\n",
    "\n",
    "Soit $ f( x ) = e^{ -x / 3 } $.\n",
    "1. Calculez le polynome interpolateur de Lagrange $ P $ pour la fonction $ f $ aux points $ x_1 = 0, x_2 = 1/2, x_3 = 1 $ (trouvez son expression dans la base canonique).\n",
    "2. Soit $ L_i $, $ i = 1, 2, 3 $, les polynomes de Lagrange associés aux points $ x_1, x_2, x_3 $. Montrer que $ L_1( x ) = 2 x^2 - 3 x + 1 $. Donnez des expressions explicites pour $ L_1 $ et $ L_3 $.\n",
    "3. Donnez une expression de $ P $ en termes de $ L_1 $, $ L_2 $, $ L_3 $.\n",
    "4. Montrez que l'erreur d'approximation de $ f $ par $ P $ sur $ [ 0, 1 ] $ est majorée par $ \\frac{ 1 }{ 162 } $. Déduisez de la question précédente que $ P $ peut servir pour calculer la valeur de $ f $ sur l'intervalle $ [ 0, 1 ] $ avec la précision de $ 2 $ chiffres après la virgule."
   ]
  },
  {
   "cell_type": "code",
   "execution_count": 9,
   "metadata": {},
   "outputs": [],
   "source": [
    "# UTILISEZ VOTRE COPIE POUR L'EXERCICE 1\n",
    "\n",
    "\n"
   ]
  },
  {
   "cell_type": "markdown",
   "metadata": {},
   "source": [
    "**Exercice 2.** (6,5 pts)\n",
    "\n",
    "Dans cet exercice, nous nous intéressons à un autre type d'interpolation : l'interpolation de Hermite.\n",
    "\n",
    "Nous considérons une fonction $f:[a, b]\\to\\mathbb{R}$ de classe $\\mathcal{C}^1$. Pour les applications numériques, nous prendrons $a=-1$, $b=1$ et \n",
    "$$f(x) = \\exp(-x^2).$$"
   ]
  },
  {
   "cell_type": "markdown",
   "metadata": {},
   "source": [
    "Nous commençons par visualiser comment se comporte le polynôme interpolateur de Lagrange lorsque les points d'interpolations se rapprochent les uns des autres (nous rappelons que par définition, ces points sont tous distincts). Nous considérons donc les quatre points d'interpolation\n",
    "$$\n",
    "x_1 = a, \\quad x_2=a+\\delta x, \\quad x_3=b-\\delta x, \\quad x_4=b.\n",
    "$$\n",
    "(Ici nous considérons que $\\delta x \\in]0, (b-a)/2[$ pour assurer que les 4 points sont dans l'intervalle $[a,b]$ et distincts deux à deux.\n",
    "\n",
    "> 1. En utilisant les fonctions proposées dans la cellule suivante, construisez une fenêtre graphique contenant 4 graphiques, chacun obtenu pour une valeur de $\\delta x\\in\\lbrace 0.5, 0.25, 0.1, 0.01\\rbrace$. Sur chaque figure, vous placerez \n",
    ">    - la courbe de la fonction $f$ en noir ;\n",
    ">    - la courbe du polynôme interpolateur de Lagrange aux points $(x_1,f(x_1)), \\ldots, (x_4, f(x_4))$ ;\n",
    ">    - les 4 points d'interpolation avec des symboles orange ;\n",
    ">    - un titre contenant la valeur du $\\delta x$ de la figure.\n",
    "> 2. Que remarquez-vous sur le comportement du polynôme interpolateur lorsque $\\delta x$ devient petit ? \n",
    "\n",
    "*Vous pourrez essayer d'obtenir une figure ressemblant à celle-ci :*\n",
    "![Lagrange](EXO4_Lagrange.png)"
   ]
  },
  {
   "cell_type": "code",
   "execution_count": 2,
   "metadata": {},
   "outputs": [],
   "source": [
    "def interp_Lagrange_matrice(x):\n",
    "    \"\"\"\n",
    "    retourne la matrice associée au vecteur x\n",
    "    pour calculer le polynôme interpolateur de Lagrnage\n",
    "    \"\"\"\n",
    "    n = x.size\n",
    "    M = np.empty((n, n))\n",
    "    j = np.arange(n)\n",
    "    for i in range(n):\n",
    "        M[i, :] = x[i]**j\n",
    "    return M\n",
    "\n",
    "\n",
    "def interp_Lagrange_poly(x, y):\n",
    "    \"\"\"\n",
    "    retourne le vecteur des coefficients du polynôme interpolateur\n",
    "    de Lagrange dans la base canonique\n",
    "    \"\"\"\n",
    "    if x.size != y.size:\n",
    "        print(\"Problème de taille dans interp_Lagrange_poly\")\n",
    "        print(f\"x.size = {x.size}, y.size={y.size}\")\n",
    "    return np.linalg.solve(interp_Lagrange_matrice(x), y)\n",
    "\n",
    "def horner(a, xx):\n",
    "    \"\"\"\n",
    "    évalue par l'algorithme de Hörner le polynôme\n",
    "    dont les coefficients dans la base canonique sont stockés dans le vecteur a\n",
    "    aux points stockés dans le vecteur xx\n",
    "    \"\"\"\n",
    "    yy = 0.\n",
    "    for ak in a[::-1]:\n",
    "        yy *= xx\n",
    "        yy += ak\n",
    "    return yy\n",
    "\n",
    "def interp_Lagrange(x, y, xx):\n",
    "    \"\"\"\n",
    "    calcule et évalue le polynôme interpolateur de Lagrange\n",
    "    en utilisant son écriture dans la base canonique\n",
    "    \n",
    "    Parameters\n",
    "    ----------\n",
    "    \n",
    "    x: ndarray\n",
    "        abscisses des points d'interpolation\n",
    "        \n",
    "    y: ndarray\n",
    "        ordonnées des points d'interpolation\n",
    "        \n",
    "    xx: ndarray\n",
    "        abscisses des points d'évaluation\n",
    "        \n",
    "    Returns\n",
    "    -------\n",
    "    \n",
    "    ndarray\n",
    "        ordonnées des points d'évaluation\n",
    "    \"\"\"\n",
    "    a = interp_Lagrange_poly(x, y)\n",
    "    return horner(a, xx)"
   ]
  },
  {
   "cell_type": "code",
   "execution_count": 10,
   "metadata": {},
   "outputs": [],
   "source": [
    "## COMPLETER\n",
    "\n",
    "\n",
    "\n"
   ]
  },
  {
   "cell_type": "markdown",
   "metadata": {},
   "source": [
    "L'interpolation de Hermite consiste, étant donnés\n",
    "* $N$ un nombre entier supérieur à 1,\n",
    "* $(x_1,\\ldots, x_N)$ $N$ réels deux à deux distincts,\n",
    "* $(y_1, \\ldots, y_N)$ $N$ réels,\n",
    "* $(z_1, \\ldots, z_N)$ $N$ réels,\n",
    "\n",
    "à déterminer l'unique polynôme $P\\in\\mathbb{R}_{2N-1}[X]$ qui vérifie\n",
    "$$P(x_i) = y_i, \\quad P'(x_i)=z_i, \\quad 1\\leq i\\leq N.$$\n",
    "\n",
    "On dira que polynôme $P$ est le polynôme interpolateur de Hermite aux points $(x_1,\\ldots,x_N)$ de la fonction $f$ s'il vérifie\n",
    "$$ P\\in\\mathbb{R}_{2N-1}[X], \\quad P(x_i)=f(x_i), \\quad P'(x_i)=f'(x_i), \\quad 1\\leq i\\leq N.$$\n",
    "\n",
    "> 3. Montrez que si l'on écrit $P$ le polynôme interpolateur de Hermite de la fonction $f$ dans la base canonique sous la forme\n",
    "$$ P = \\sum_{j=0}^{2N-1} a_j X^j,$$\n",
    ">    le vecteur des coefficients $a = (a_0, \\ldots, a_{2N-1})$ est solution du système linéaire de taille $2N\\times 2N$\n",
    "$$\n",
    "\\begin{pmatrix}\n",
    "x_1^0 & x_1^1 & x_1^2 &\\ldots & x_1^{2N-2} & x_1^{2N-1} \\\\\n",
    "x_2^0 & x_2^1 & x_2^2 & \\ldots & x_2^{2N-2} & x_2^{2N-1} \\\\\n",
    "\\vdots& \\vdots& \\vdots&        & \\vdots     & \\vdots     \\\\\n",
    "x_N^0 & x_N^1 & x_N^2 & \\ldots & x_N^{2N-2} & x_N^{2N-1} \\\\\n",
    "0 & x_1^0 & 2x_1^1 & \\ldots & (2N-2) x_1^{2N-3} & (2N-1) x_1^{2N-2} \\\\\n",
    "0 & x_2^0 & 2x_2^1 & \\ldots & (2N-2) x_2^{2N-3} & (2N-1) x_2^{2N-2} \\\\\n",
    "\\vdots& \\vdots& \\vdots&        & \\vdots     & \\vdots     \\\\\n",
    "0 & x_N^0 & 2x_N^1 & \\ldots & (2N-2) x_N^{2N-3} & (2N-1) x_N^{2N-2}\n",
    "\\end{pmatrix} \\begin{pmatrix}\n",
    "a_0 \\\\ a_1 \\\\ \\vdots \\\\ \\vdots \\\\ \\vdots \\\\ \\vdots \\\\ a_{2N-2} \\\\ a_{2N-1}\n",
    "\\end{pmatrix} = \\begin{pmatrix}\n",
    "y_1 \\\\ y_2 \\\\ \\vdots \\\\ y_N \\\\ z_1 \\\\ z_2 \\\\ \\vdots \\\\ z_N\n",
    "\\end{pmatrix}.\n",
    "$$\n",
    "\n",
    "> 4. Proposez une fonction `interp_Hermite` sur le même modèle que la fonction `interp_Lagrange` qui prend en arguments `x`, `y` et `z` trois `ndarray` et `xx` un `ndarray` et qui retourne `yy` un `ndarray` construit comme l'évaluation aux points `xx` du polynôme interpolateur de Hermite associés aux points `x`, `y` et `z`.\n",
    "> 5. Reprennez la question 1. et ajoutez sur les 4 graphiques l'interpolée de Hermite obtenue. Comment pouvez-vous comparer le polynôme interpolateur de Lagrange et celui de Hermite ?"
   ]
  },
  {
   "cell_type": "code",
   "execution_count": null,
   "metadata": {},
   "outputs": [],
   "source": [
    "# UTILISEZ VOTRE COPIE POUR LA QUESTION 3\n",
    "\n"
   ]
  },
  {
   "cell_type": "code",
   "execution_count": 16,
   "metadata": {},
   "outputs": [],
   "source": [
    "# COMPLETEZ POUR LA QUESTION 4\n",
    "\n",
    "\n",
    "\n",
    "\n"
   ]
  },
  {
   "cell_type": "code",
   "execution_count": 11,
   "metadata": {},
   "outputs": [],
   "source": [
    "# COMPLETEZ POUR LA QUESTION 5 \n",
    "\n",
    "\n",
    "\n"
   ]
  }
 ],
 "metadata": {
  "kernelspec": {
   "display_name": "Python 3",
   "language": "python",
   "name": "python3"
  },
  "language_info": {
   "codemirror_mode": {
    "name": "ipython",
    "version": 3
   },
   "file_extension": ".py",
   "mimetype": "text/x-python",
   "name": "python",
   "nbconvert_exporter": "python",
   "pygments_lexer": "ipython3",
   "version": "3.6.8"
  }
 },
 "nbformat": 4,
 "nbformat_minor": 2
}
