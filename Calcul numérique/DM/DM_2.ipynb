{
 "cells": [
  {
   "cell_type": "markdown",
   "metadata": {},
   "source": [
    "DEVOIR MAISON 2\n",
    "\n",
    "---\n",
    "# Interpolation de Lagrange et phénomène de Runge : méthode des faux noeuds\n",
    "---\n",
    "$\\newcommand{\\Rsp}{\\mathbb{R}}$\n",
    "$\\newcommand{\\nr}[1]{\\left\\Vert #1\\right\\Vert}$\n",
    "$\\newcommand{\\abs}[1]{\\left\\vert #1\\right\\vert}$"
   ]
  },
  {
   "cell_type": "code",
   "execution_count": null,
   "metadata": {},
   "outputs": [],
   "source": [
    "%matplotlib inline\n",
    "%config InlineBackend.figure_format = 'retina'\n",
    "\n",
    "import numpy as np                       # pour les numpy array\n",
    "import matplotlib.pyplot as plt          # librairie graphique"
   ]
  },
  {
   "cell_type": "markdown",
   "metadata": {},
   "source": [
    "Soit $f \\in \\mathcal{C}^\\infty([a,b], \\Rsp)$ une fonction $\\mathcal{C}^\\infty$ de $[a,b] \\subset \\Rsp$ dans $\\Rsp$. Etant donné un ensemble de points $(x_i)_{1 \\leq i \\leq N} \\subset [a,b]$, on peut ne connaître $f$ qu'à travers ses évaluations aux différents points $x_i$, i.e. $f$ est inconnue mais $(y_i)_{1 \\leq i \\leq N} = (f(x_i))_{1 \\leq i \\leq N}$ est connu. L'interpolation polynomiale de Lagrange propose une façon de construire une fonction $\\hat{f}$ ayant une forme polynomiale et telle que $\\hat{f} \\approx f$.\n",
    "\n",
    "Le cours indique en effet que si les $x_i$ sont distincts deux à deux, il existe un unique polynome $P_N$ (jouant le rôle de $\\hat{f}$) de degré $N-1$ vérifiant $P_N(x_i) = y_i = f(x_i)$. Dans ces conditions, le cours donne aussi une borne sur l'erreur commise par cette approximation polynomiale : pour $f^{(N)}$ la dérivée $N$-ième de $f$ et $\\pi_N(x) = \\prod_{i=1}^N (x - x_i)$, on a \n",
    "$$ \\nr{f - P_N}_\\infty \\leq \\frac{1}{N!} \\nr{f^{(N)}}_\\infty \\nr{\\pi_N}_\\infty.$$\n",
    "\n",
    "Cette inégalité permet de controler l'erreur commise par deux quantités indépendantes :\n",
    "* la derivée $N$-ième de $f$, qui est souvent inconnue ($f$ étant elle-même inconnue dans notre contexte),\n",
    "* le polynome $\\pi_N$, qui dépent seulement des abscisses d'interpolations $(x_i)_{1 \\leq i \\leq N}$.\n",
    "\n",
    "Comme vu en TP6, certaines fonctions $f$ peuvent mener à une erreur qui augmente avec $N$ lorsque les points $(x_i)_{1 \\leq i \\leq N}$ sont *mal choisis* : ceci correspond au <a href=\"https://fr.wikipedia.org/wiki/Ph%C3%A9nom%C3%A8ne_de_Runge\" title=\"Phénomène de Runge - Wikipédia\"> phénomène de Runge</a>. \n",
    "\n",
    "Il existe une <a href=\"https://journalofinequalitiesandapplications.springeropen.com/track/pdf/10.1186/s13660-016-1030-3.pdf\" title=\"Référence 1\"> autre borne </a> sur l'erreur commise qui permet d'exhiber l'effet du choix de $(x_i)_{1 \\leq i \\leq N}$. Cette borne lie l'erreur commise par l'interpolation polynomiale de Lagrange $P_N$ à l'erreur de la meilleure approximation polynomiale de degré $N-1$:\n",
    "$$ \\nr{f - P_N}_\\infty \\leq (1 + \\nr{\\Lambda^{x_1,...,x_N}}_\\infty) \\min_{Q_N \\in \\Rsp^{N-1}[X]} \\nr{f - Q_N}_\\infty, \\qquad \\qquad  \\mathrm{(1)}$$\n",
    "où $\\nr{\\Lambda^{x_1,...,x_N}}_\\infty$ correspond à la constante de Lebesgue de l'ensemble $(x_i)_{1 \\leq i \\leq N}$, avec\n",
    "$$ \\Lambda^{x_1,...,x_N}(x) =  \\sum_{i=1}^N \\abs{\\ell^{x_1,\\dots,x_N}_i(x)}, $$\n",
    "où $\\ell^{x_1,\\dots,x_N}_i$ est le $i$-ième polynome interpolateur de Lagrange associé aux abscisses $(x_i)_{1 \\leq i \\leq N}$ :\n",
    "$$ \\ell^{x_1,\\dots,x_N}_i(x) = \\prod_{j=1, j \\neq i}^N \\frac{x - x_j}{x_i - x_j}.$$\n",
    "\n",
    "Nous avons donc intérêt à choisir un ensemble d'abscisses d'interpolation $(x_i)_{1 \\leq i \\leq N}$ tel que la constante de Lebesgue $\\nr{\\Lambda^{x_1,...,x_N}}_\\infty$ soit de petite valeur.\n",
    "\n",
    "**Remarque :** la constante de Lebesgue apparaît également dans la majoration de $\\nr{P_N}_\\infty$:\n",
    "$$ \\forall x, \\abs{P_N(x)} = \\abs{ \\sum_{i=1}^N f(x_i) \\ell^{x_1,\\dots,x_N}_i(x) } \\leq \\nr{f}_\\infty \\Lambda^{x_1,...,x_N}(x) \\leq \\nr{f}_\\infty \\nr{\\Lambda^{x_1,...,x_N}}_\\infty. $$"
   ]
  },
  {
   "cell_type": "markdown",
   "metadata": {},
   "source": [
    "**Question 1:**\n",
    "\n",
    "> Proposez une fonction `lebesgue` qui prend en argument :\n",
    "> - `x` un `ndarray` de taille $N$ qui collectionne les abscisses d'interpolation $(x_i)_{1 \\leq i \\leq N}$ \n",
    "> - et `xx` un `float` ou `ndarray` qui collectionne des abscisses d'évaluation\n",
    ">\n",
    "> et qui renvoie l'évaluation de $\\Lambda^{x_1,...,x_N}$ en les points de `xx`. "
   ]
  },
  {
   "cell_type": "code",
   "execution_count": 12,
   "metadata": {},
   "outputs": [],
   "source": []
  },
  {
   "cell_type": "markdown",
   "metadata": {},
   "source": [
    "On redonne ici une définition de deux familles de points classiques pour l'interpolation (attention aux signes) :\n",
    "* les points équi-répartis\n",
    "$$ x^{equi}_{i, N} = a + (b-a) \\frac{i-1}{N-1}, \\qquad 1\\leq i\\leq N,$$\n",
    "* les points de Tchebychev\n",
    "$$ x^{tcheb}_{i, N} = \\frac{a+b}{2} + \\frac{a-b}{2} \\cos \\Bigl( \\frac{2i-1}{2N}\\pi \\Bigr), \\qquad 1\\leq i\\leq N.$$"
   ]
  },
  {
   "cell_type": "markdown",
   "metadata": {},
   "source": [
    "**Question 2**\n",
    "\n",
    "> 1. Proposez une fonction `equirepartis(a, b, N)` qui prend en arguments 2 réels, les valeurs des bornes de l'intervalle $a$ et $b$ et un entier $N$ et qui retourne la famille des $N$ points équi-répartis entre $a$ et $b$.\n",
    "> 2. Proposez une fonction `tchebychev(a, b, N)` qui prend en arguments 2 réels, les valeurs des bornes de l'intervalle $a$ et $b$ et un entier $N$ et qui retourne la famille des $N$ points de Tchebychev entre $a$ et $b$."
   ]
  },
  {
   "cell_type": "code",
   "execution_count": 3,
   "metadata": {},
   "outputs": [],
   "source": []
  },
  {
   "cell_type": "code",
   "execution_count": 4,
   "metadata": {},
   "outputs": [],
   "source": []
  },
  {
   "cell_type": "markdown",
   "metadata": {},
   "source": [
    "**Question 3**\n",
    "\n",
    "> Pour $a=-2, b=2$, `xx = np.linspace(-2, 2, 1000)`, et pour chaque valeur de $N$ dans $\\{5, 10, 20, 40\\}$, évaluez votre fonction `lebesgue` en `xx` pour des ensembles d'abscisses d'interpolation de taille $N$ et choisies de manière équi-répartie ou comme racines de Tchebychev. Répresentez chaque évaluation dans un graphique et ajoutez des titres détaillant le type d'abscisses d'interpolation et la valeur de $N$. Remarque : on pourra organiser le graphique en 4 lignes (une pour chaque valeur de $N$) et 2 colonnes (une pour chaque type d'abscisses d'interpolation).  \n",
    ">\n",
    "> Qu'observez-vous ?"
   ]
  },
  {
   "cell_type": "code",
   "execution_count": null,
   "metadata": {},
   "outputs": [],
   "source": []
  },
  {
   "cell_type": "markdown",
   "metadata": {},
   "source": [
    "En pratique, il peut arriver que les abscisses d'interpolation soient imposées et que l'utilisateur ne puisse les choisir (elles peuvent être imposées par exemple par un logiciel de CAO). Nous avons vu dans le TP7 qu'une façon d'éviter les problèmes liés au phénomène de Runge dans ce contexte contraint pouvait être d'agir de manière locale et de calculer des polynomes d'interpolation sur des sous-intervalles de l'intervalle total. \n",
    "\n",
    "### Méthode des *faux noeuds*\n",
    "\n",
    "Un autre approche, dite des *faux noeuds*, consiste en \"déplacer\" les abscisses d'interpolation fournies vers des abscisse d'interpolation ayant une faible constante de Lebesgue, et de travailler avec ces points à la place des points originaux.\n",
    "\n",
    "Plus précisément, soit $(x_i)_{1 \\leq i \\leq N}$ un ensemble de points d'abscisses d'interpolation distincts deux à deux et imposés et $(y_i)_{1 \\leq i \\leq N} = (f(x_i))_{1 \\leq i \\leq N}$ les évaluations correpondantes de $f$. On suppose connaitre une fonction bijective $S : [a,b] \\to [a,b]$ telle que $(S(x_i))_{1 \\leq i \\leq N}$ soit un ensemble de points d'abscisses d'interpolation avec une faible constante de Lebesgue.\n",
    "La méthode des faux noeuds construit le polynome interpolateur de Lagrange $R_N$ aux point $((S(x_i), y_i)_{1\\leq i\\leq N}$, et propose comme interpolation la fonction $\\hat{f}(x) = R_N(S(x))$:\n",
    "$$ R_N(x) = \\sum_{i=1}^N y_i \\ell^{S(x_1),\\dots,S(x_N)}_i(x), $$\n",
    "$$ \\hat{f}(x) = R_N(S(x)). $$\n",
    "\n",
    "La fonction $\\hat{f}$ vérifie bien $\\hat{f}(x_i) = y_i = f(x_i)$ pour tout $i \\in \\{1, \\dots, N\\}$, mais cette fonction n'est plus un polynome de $x$ si $S$ n'est pas polynomiale. \n",
    "\n",
    "**Remarque :** En revanche, $R_N$ est bien un polynome de $x$, interpolateur de Lagrange de la fonction $f \\circ S^{-1}$ aux abscisses d'interpolation $(S(x_i))_{1 \\leq i \\leq N}$ (puisque $y_i = f(x_i) = f \\circ S^{-1}(S(x_i))$). Ainsi, les bornes données dans l'introduction s'appliquent :\n",
    "$$ \\nr{ f \\circ S^{-1} - R_N}_\\infty \\leq (1 + \\nr{\\Lambda^{S(x_1),...,S(x_N)}}_\\infty) \\min_{Q_N \\in \\Rsp^{N-1}[X]} \\nr{f\\circ S^{-1} - Q_N}_\\infty, $$\n",
    "qui peut être ré-écrit\n",
    "$$ \\nr{ f - R_N\\circ S }_\\infty \\leq (1 + \\nr{\\Lambda^{S(x_1),...,S(x_N)}}_\\infty) \\min_{Q_N \\in \\Rsp^{N-1}[X]} \\nr{f - Q_N\\circ S}_\\infty,$$\n",
    "où on réconnait $\\hat{f} = R_N\\circ S$."
   ]
  },
  {
   "cell_type": "markdown",
   "metadata": {},
   "source": [
    "En pratique, il arrive souvent que les abscisses d'interpolation imposées $(x_i)_{1\\leq i \\leq N}$ correspondent à des points équi-répartis. D'après les calculs précédents, il peut être tentant de trouver une fonction $S^{et} : [a, b] \\to [a, b]$ telle que $(S^{et}(x_i))_{1\\leq i \\leq N}$ corresponde aux point de Tchebychev.\n",
    "\n",
    "**Question 4**\n",
    "\n",
    "Soit $ S^{et} $ la fonction définie par l'expression suivante\n",
    "$$\n",
    "S^{et}_{ a, b, N }( x ) = \\frac{ a + b }{ 2 } + \\frac{ a - b }{ 2 } \\cos\\left( \\left( \\frac{ 2 ( N - 1 ) ( x - a ) }{ b - a } + 1 \\right) \\frac{ \\pi }{ 2N } \\right).\n",
    "$$\n",
    "\n",
    "> 1. Vérifier que pour tout $i \\in \\{1, \\dots, N\\}, S^{et}_{ a, b, N }(x^{equi}_{i, N} ) = x^{tcheb}_{i, N}$.\n",
    "> 2. Programmez une fonction `S_equi_tcheb(x, a, b, N)` qui prend en argument `x` un `float` ou un `ndarray` à valeur dans $[a, b]$, deux réels `a` et `b` et un entier `N`, et qui renvoie l'evaluation de la fonction $ S^{et} $ en `x `.\n",
    "> 3. Vérifiez que votre fonction renvoie la bonne sortie en affichant le maximum de la valeur absolue de la différence entre le tableau `S_equi_tcheb(equirepartis(a, b, N), a, b, N)` et le tableau `tchebychev(a, b, N)` pour $a=-2, b=2, N=20$."
   ]
  },
  {
   "cell_type": "code",
   "execution_count": null,
   "metadata": {},
   "outputs": [],
   "source": []
  },
  {
   "cell_type": "markdown",
   "metadata": {},
   "source": [
    "**Question 5**\n",
    "> Proposez une fonction `interp_Lagrange_faux_noeuds(x, y, xx, S)` qui prend en arguments deux tableux `x` et `y` de meme taille, un tableau `xx` et une fonction `S` prenant un `ndarray` comme argument, et qui renvoie l'évaluation en `S(xx)` du polynome interpolateur de Lagrange des points `(S(x), y)` (i.e. $R_N(S($ `xx` $))$)"
   ]
  },
  {
   "cell_type": "code",
   "execution_count": 9,
   "metadata": {},
   "outputs": [],
   "source": []
  },
  {
   "cell_type": "markdown",
   "metadata": {},
   "source": [
    "### Application"
   ]
  },
  {
   "cell_type": "markdown",
   "metadata": {},
   "source": [
    "**Question 6**\n",
    "> Définissez la fonction `f(x)` correspondant à $f: x \\mapsto \\frac{1}{1+x^2}$ et réprésentez cette fonction sur $[a, b] = [-2, 2]$."
   ]
  },
  {
   "cell_type": "code",
   "execution_count": null,
   "metadata": {},
   "outputs": [],
   "source": []
  },
  {
   "cell_type": "markdown",
   "metadata": {},
   "source": [
    "**Question 7**\n",
    "\n",
    "> Pour ``xx = np.linspace(a, b, 1000)`` et $N$ prenant les différentes valeurs de $\\{5, 10, 15, 20\\}$, représentez dans trois graphiques différents la fonction $f$ ainsi que son approximation $\\hat{f}$ fournie par:\n",
    "> - le polynome interpolateur de Lagrange calculé avec les abscisses d'interpolation équi-réparties, i.e. en $ (x^{equi}_{i, N}, f(x^{equi}_{i, N}))_{1 \\leq i \\leq N}$ et évalué en `xx`\n",
    "> - le polynome interpolateur de Lagrange calculé avec les abscisses d'interpolation de Tchebychev, i.e. en $ (x^{tcheb}_{i, N}, f(x^{tcheb}_{i, N}))_{1 \\leq i \\leq N}$ et évalué en `xx`\n",
    "> - l'interpolation de la méthode des faux-noeuds, calculée comme le polynome interpolateur de Lagrange en les points d'interpolation $ (S^{et}(x^{equi}_{i, N}), f(x^{equi}_{i, N}))_{1 \\leq i \\leq N}$ et évalué en `S_equi_tcheb( xx, a, b, N ) ` (où `S_equi_tcheb` a été définie en question 4)\n",
    "\n",
    "*Remarque : dans chaque graphique on représentera un seul type d'interpolation, donnée pour différentes valeurs de $N$. On pourra essayer d'obtenir l'image suivant:*\n",
    "![equi_tcheb_fauxnoeuds](DM2_faux_noeuds.png)"
   ]
  },
  {
   "cell_type": "code",
   "execution_count": null,
   "metadata": {},
   "outputs": [],
   "source": []
  },
  {
   "cell_type": "markdown",
   "metadata": {},
   "source": [
    "**Question 8**\n",
    "\n",
    "Pour mesurer l'écart entre la fonction $f$ et son approximation $\\hat{f}$, nous choisissons la norme infinie.\n",
    "> 1. Tracez dans une fenêtre graphique la norme infinie de la différence entre la fonction et son polynôme interpolateur à $N$ points équi-répartis en fonction de $N$. Vous prendrez $N$ entre $5$ et $100$ par pas de $5$ et vous choisirez une échelle logarithmique pour les ordonnées.\n",
    "> 2. Ajoutez sur la même figure la courbe obtenue pour les points de Techbychev.\n",
    "> 3. Ajoutez sur la même figure la courbe obtenue pour l'interpolation de la méthode des faux-noeuds\n",
    "> 3. Que remarquez-vous ?"
   ]
  },
  {
   "cell_type": "code",
   "execution_count": null,
   "metadata": {},
   "outputs": [],
   "source": []
  },
  {
   "cell_type": "code",
   "execution_count": null,
   "metadata": {},
   "outputs": [],
   "source": []
  }
 ],
 "metadata": {
  "kernelspec": {
   "display_name": "Python 3",
   "language": "python",
   "name": "python3"
  },
  "language_info": {
   "codemirror_mode": {
    "name": "ipython",
    "version": 3
   },
   "file_extension": ".py",
   "mimetype": "text/x-python",
   "name": "python",
   "nbconvert_exporter": "python",
   "pygments_lexer": "ipython3",
   "version": "3.8.11"
  }
 },
 "nbformat": 4,
 "nbformat_minor": 2
}
