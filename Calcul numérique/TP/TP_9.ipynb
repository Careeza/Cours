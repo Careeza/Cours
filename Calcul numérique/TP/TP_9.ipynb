{
 "cells": [
  {
   "cell_type": "code",
   "execution_count": 1,
   "metadata": {},
   "outputs": [],
   "source": [
    "import numpy as np\n",
    "from scipy.integrate import quad\n",
    "import matplotlib.pyplot as plt"
   ]
  },
  {
   "cell_type": "code",
   "execution_count": 2,
   "metadata": {},
   "outputs": [],
   "source": [
    "def f1(x):\n",
    "    return np.exp(-x**2)"
   ]
  },
  {
   "cell_type": "code",
   "execution_count": 3,
   "metadata": {},
   "outputs": [],
   "source": [
    "def f2(x):\n",
    "    return (np.sin(x))**0.5"
   ]
  },
  {
   "cell_type": "code",
   "execution_count": 9,
   "metadata": {},
   "outputs": [
    {
     "data": {
      "text/plain": [
       "[<matplotlib.lines.Line2D at 0x117c84e20>]"
      ]
     },
     "execution_count": 9,
     "metadata": {},
     "output_type": "execute_result"
    },
    {
     "data": {
      "image/png": "[encoded data removed]",
      "text/plain": [
       "<Figure size 864x432 with 2 Axes>"
      ]
     },
     "metadata": {
      "needs_background": "light"
     },
     "output_type": "display_data"
    }
   ],
   "source": [
    "a = 0\n",
    "b = 3\n",
    "xx = np.linspace(a, b, 200)\n",
    "y1 = f1(xx)\n",
    "y2 = f2(xx)\n",
    "plt.figure(figsize=(12, 6))\n",
    "ax = plt.subplot(1, 2, 1)\n",
    "ax.plot(xx, y1)\n",
    "ax = plt.subplot(1, 2, 2)\n",
    "ax.plot(xx, y2)"
   ]
  },
  {
   "cell_type": "code",
   "execution_count": 65,
   "metadata": {},
   "outputs": [],
   "source": [
    "def left_rect_meth(a, b, f, N):\n",
    "    pas = (b - a) / N\n",
    "    sum = 0\n",
    "    for i in range(N):\n",
    "        sum += f(a + i * pas)\n",
    "    return sum * pas"
   ]
  },
  {
   "cell_type": "code",
   "execution_count": 78,
   "metadata": {},
   "outputs": [],
   "source": [
    "def left_rect_meth2(f, x):\n",
    "    return np.sum(f(x[0:-1])) * (x[1] - x[0])"
   ]
  },
  {
   "cell_type": "code",
   "execution_count": 79,
   "metadata": {},
   "outputs": [],
   "source": [
    "def right_rect_meth(a, b, f, N):\n",
    "    pas = (b - a) / N\n",
    "    sum = 0\n",
    "    for i in range(N):\n",
    "        sum += f(a + (i + 1) * pas)\n",
    "    return sum  * pas"
   ]
  },
  {
   "cell_type": "code",
   "execution_count": 83,
   "metadata": {},
   "outputs": [],
   "source": [
    "def right_rect_meth2(f, x):\n",
    "    return np.sum(f(x[1:])) * (x[1] - x[0])"
   ]
  },
  {
   "cell_type": "code",
   "execution_count": 84,
   "metadata": {},
   "outputs": [
    {
     "name": "stdout",
     "output_type": "stream",
     "text": [
      "1.1361627709148368\n",
      "0.6362244758168801\n",
      "1.1361627709148368\n",
      "0.6362244758168801\n"
     ]
    }
   ],
   "source": [
    "print(left_rect_meth(0, 3, f1, 6))\n",
    "print(right_rect_meth(0, 3, f1, 6))\n",
    "print(left_rect_meth2(f1, np.linspace(0, 3, 7)))\n",
    "print(right_rect_meth2(f1, np.linspace(0, 3, 7)))\n"
   ]
  },
  {
   "cell_type": "code",
   "execution_count": 81,
   "metadata": {},
   "outputs": [
    {
     "data": {
      "text/plain": [
       "(0.8862073482595214, 3.176820740561071e-11)"
      ]
     },
     "execution_count": 81,
     "metadata": {},
     "output_type": "execute_result"
    }
   ],
   "source": [
    "quad(f1, a, b, epsabs=1e-14)"
   ]
  },
  {
   "cell_type": "code",
   "execution_count": 93,
   "metadata": {},
   "outputs": [],
   "source": [
    "def midle_point_meth(a, b, f, N):\n",
    "    pas = (b - a) / N\n",
    "    sum = 0\n",
    "    for i in range(N):\n",
    "        sum += f(a + (i + 0.5) * pas)\n",
    "    return sum * pas"
   ]
  },
  {
   "cell_type": "code",
   "execution_count": 94,
   "metadata": {},
   "outputs": [],
   "source": [
    "def midle_point_meth2(f, x):\n",
    "    pas = x[1] - x[0]\n",
    "    return np.sum(f(x[0:-1] + pas / 2)) * pas"
   ]
  },
  {
   "cell_type": "code",
   "execution_count": 95,
   "metadata": {},
   "outputs": [
    {
     "name": "stdout",
     "output_type": "stream",
     "text": [
      "0.8862135935945482\n",
      "0.8862135935945482\n"
     ]
    }
   ],
   "source": [
    "print (midle_point_meth(0, 3, f1, 6))\n",
    "print (midle_point_meth2(f1, np.linspace(0, 3, 7)))"
   ]
  },
  {
   "cell_type": "code",
   "execution_count": 49,
   "metadata": {},
   "outputs": [],
   "source": [
    "def trapeze_meth(a, b, f, N):\n",
    "    pas = (b - a) / N\n",
    "    sum = 0\n",
    "    for i in range(N):\n",
    "        sum +=  (f(a + i * pas) + f(a + (i + 1) * pas))\n",
    "    return sum * pas / 2"
   ]
  },
  {
   "cell_type": "code",
   "execution_count": 96,
   "metadata": {},
   "outputs": [],
   "source": [
    "def trapeze_meth2(f, x):\n",
    "    pas = x[1] - x[0]\n",
    "    return np.sum(f(x[0:-1]) + f(x[1:])) * pas / 2"
   ]
  },
  {
   "cell_type": "code",
   "execution_count": 97,
   "metadata": {},
   "outputs": [
    {
     "name": "stdout",
     "output_type": "stream",
     "text": [
      "0.8861936233658585\n",
      "0.8861936233658585\n"
     ]
    }
   ],
   "source": [
    "print (trapeze_meth(0, 3, f1, 6))\n",
    "print (trapeze_meth2(f1, np.linspace(0, 3, 7)))"
   ]
  },
  {
   "cell_type": "code",
   "execution_count": 51,
   "metadata": {},
   "outputs": [],
   "source": [
    "def simpson_meth(a, b, f, N):\n",
    "    pas = (b - a) / N\n",
    "    sum = 0\n",
    "    for i in range(N):\n",
    "        sum +=  (f(a + i * pas) + 4 * f(a + (i + 0.5) * pas) + f(a + (i + 1) * pas))\n",
    "    return sum * pas / 6"
   ]
  },
  {
   "cell_type": "code",
   "execution_count": 98,
   "metadata": {},
   "outputs": [],
   "source": [
    "def simpson_meth2(f, x):\n",
    "    pas = x[1] - x[0]\n",
    "    return np.sum(f(x[0:-1]) + 4 * f(x[0:-1] + pas / 2) + f(x[1:])) * pas / 6"
   ]
  },
  {
   "cell_type": "code",
   "execution_count": 99,
   "metadata": {},
   "outputs": [
    {
     "name": "stdout",
     "output_type": "stream",
     "text": [
      "0.8862069368516515\n",
      "0.8862069368516515\n"
     ]
    }
   ],
   "source": [
    "print (simpson_meth(0, 3, f1, 6))\n",
    "print (simpson_meth2(f1, np.linspace(0, 3, 7)))"
   ]
  },
  {
   "cell_type": "code",
   "execution_count": 219,
   "metadata": {},
   "outputs": [],
   "source": [
    "def Eh(f, a, b, method, h):\n",
    "    x = np.arange(a, b + h, h)\n",
    "    return np.abs(quad(f, a, b, epsabs=1e-14)[0] - method(f, x))"
   ]
  },
  {
   "cell_type": "code",
   "execution_count": null,
   "metadata": {},
   "outputs": [],
   "source": []
  },
  {
   "cell_type": "code",
   "execution_count": 220,
   "metadata": {},
   "outputs": [],
   "source": [
    "def error(f, a, b, method):\n",
    "    err = 10**-14\n",
    "    H = [(1/2)**n for n in range(6)]\n",
    "    r = 1\n",
    "    print(\"-------------\" * (r + 1))\n",
    "    print(f\"  h           \", end='')\n",
    "    for k in range(1, r + 1):\n",
    "        print(f\"Eh(f)/h^{k}   \", end='')\n",
    "    print(\"\")\n",
    "    for h in H:\n",
    "        print(f\"{h:11.4e}  \", end='')\n",
    "        for k in range(1, r + 1):\n",
    "            print(f\"{(Eh(f, a, b, method, h)/h**k):11.4e}  \", end='')\n",
    "        print(\"\")"
   ]
  },
  {
   "cell_type": "code",
   "execution_count": 221,
   "metadata": {},
   "outputs": [
    {
     "name": "stdout",
     "output_type": "stream",
     "text": [
      "--------------------------\n",
      "  h           Eh(f)/h^1   \n",
      " 1.0000e+00   4.9437e-05  \n",
      " 5.0000e-01   2.7450e-05  \n",
      " 2.5000e-01   1.4959e-05  \n",
      " 1.2500e-01   7.6533e-06  \n",
      " 6.2500e-02   3.8490e-06  \n",
      " 3.1250e-02   1.9273e-06  \n",
      "--------------------------\n",
      "  h           Eh(f)/h^1   \n",
      " 1.0000e+00   3.4779e-05  \n",
      " 5.0000e-01   8.2282e-07  \n",
      " 2.5000e-01   1.1585e-07  \n",
      " 1.2500e-01   1.4917e-08  \n",
      " 6.2500e-02   1.8785e-09  \n",
      " 3.1250e-02   2.3525e-10  \n"
     ]
    }
   ],
   "source": [
    "error(f1, 0, 3, trapeze_meth2)\n",
    "error(f1, 0, 3, simpson_meth2)"
   ]
  },
  {
   "cell_type": "code",
   "execution_count": 222,
   "metadata": {},
   "outputs": [],
   "source": [
    "def error_graph(f, a, b, method):\n",
    "    err = 10**-14\n",
    "    H = [(1/2)**n for n in range(6)]\n",
    "    Y = []\n",
    "    for h in H:\n",
    "        Y += [Eh(f, a, b, method, h)]\n",
    "    plt.yscale('log')\n",
    "    plt.xscale('log')\n",
    "    plt.scatter(H, Y)"
   ]
  },
  {
   "cell_type": "code",
   "execution_count": 223,
   "metadata": {},
   "outputs": [
    {
     "data": {
      "image/png": "[encoded data removed]",
      "text/plain": [
       "<Figure size 432x288 with 1 Axes>"
      ]
     },
     "metadata": {
      "needs_background": "light"
     },
     "output_type": "display_data"
    }
   ],
   "source": [
    "error_graph(f1, 0, 3, left_rect_meth2)\n"
   ]
  },
  {
   "cell_type": "code",
   "execution_count": 224,
   "metadata": {},
   "outputs": [
    {
     "data": {
      "image/png": "[encoded data removed]",
      "text/plain": [
       "<Figure size 432x288 with 1 Axes>"
      ]
     },
     "metadata": {
      "needs_background": "light"
     },
     "output_type": "display_data"
    }
   ],
   "source": [
    "error_graph(f1, 0, 3, right_rect_meth2)\n"
   ]
  },
  {
   "cell_type": "code",
   "execution_count": 225,
   "metadata": {},
   "outputs": [
    {
     "data": {
      "image/png": "[encoded data removed]",
      "text/plain": [
       "<Figure size 432x288 with 1 Axes>"
      ]
     },
     "metadata": {
      "needs_background": "light"
     },
     "output_type": "display_data"
    }
   ],
   "source": [
    "error_graph(f1, 0, 3, midle_point_meth2)\n"
   ]
  },
  {
   "cell_type": "code",
   "execution_count": 226,
   "metadata": {},
   "outputs": [
    {
     "data": {
      "image/png": "[encoded data removed]",
      "text/plain": [
       "<Figure size 432x288 with 1 Axes>"
      ]
     },
     "metadata": {
      "needs_background": "light"
     },
     "output_type": "display_data"
    }
   ],
   "source": [
    "error_graph(f1, 0, 3, trapeze_meth2)"
   ]
  },
  {
   "cell_type": "code",
   "execution_count": 227,
   "metadata": {},
   "outputs": [
    {
     "data": {
      "image/png": "[encoded data removed]",
      "text/plain": [
       "<Figure size 432x288 with 1 Axes>"
      ]
     },
     "metadata": {
      "needs_background": "light"
     },
     "output_type": "display_data"
    }
   ],
   "source": [
    "error_graph(f1, 0, 3, simpson_meth2)\n"
   ]
  },
  {
   "cell_type": "code",
   "execution_count": 250,
   "metadata": {},
   "outputs": [],
   "source": [
    "def error_graph(f, a, b, method):\n",
    "    H = np.array([(1/2)**n for n in range(1, 10)])\n",
    "    Y = np.zeros(H.size)\n",
    "    for i, h in enumerate(H):\n",
    "        Y[i] = Eh(f, a, b, method, h)\n",
    "    Y_log = np.log(Y)\n",
    "    H_log = np.log(H)\n",
    "    d = np.polyfit(H_log, Y_log, 1)\n",
    "    print(d)\n",
    "    xx = np.linspace(0, 1, 100)\n",
    "    plt.plot(xx, xx * d[0] + d[1])"
   ]
  },
  {
   "cell_type": "code",
   "execution_count": 251,
   "metadata": {},
   "outputs": [
    {
     "name": "stdout",
     "output_type": "stream",
     "text": [
      "[ 1.11455203 -1.00317106]\n",
      "[ 1.50461667 -3.52888353]\n",
      "[ 1.54804769 -1.28478837]\n"
     ]
    },
    {
     "data": {
      "image/png": "[encoded data removed]",
      "text/plain": [
       "<Figure size 432x288 with 1 Axes>"
      ]
     },
     "metadata": {
      "needs_background": "light"
     },
     "output_type": "display_data"
    }
   ],
   "source": [
    "error_graph(f2, 0, 3, left_rect_meth2)\n",
    "error_graph(f2, 0, 3, simpson_meth2)\n",
    "error_graph(f2, 0, 3, trapeze_meth2)\n"
   ]
  },
  {
   "cell_type": "code",
   "execution_count": 314,
   "metadata": {},
   "outputs": [],
   "source": [
    "def Eh(f, a, b, method, h):\n",
    "    x = np.arange(a, b + h, h)\n",
    "    return np.abs(quad(f, a, b, epsabs=1e-14)[0] - method(f, x))"
   ]
  },
  {
   "cell_type": "code",
   "execution_count": 318,
   "metadata": {},
   "outputs": [],
   "source": [
    "def Eh(f, a, b, method, h):\n",
    "    x = np.arange(a, b + h, h)\n",
    "    E = np.array([np.abs(quad(f, x[i], x[i + 1], epsabs=1e-14)[0] - method(f, x[i:i+2])) for i in range(len(x) - 1)])\n",
    "    return np.sum(E)\n",
    "    # return np.abs(quad(f, a, b, epsabs=1e-14)[0] - method(f, x))"
   ]
  },
  {
   "cell_type": "code",
   "execution_count": 319,
   "metadata": {},
   "outputs": [],
   "source": [
    "def plot_error(f, a, b, M):\n",
    "    fig = plt.figure(figsize=(6, 6))\n",
    "    ax = plt.subplot(1, 1, 1)\n",
    "    ax.set_xscale('log')\n",
    "    ax.set_yscale('log')\n",
    "    H = np.array([(1/2)**n for n in range(1, 7)])\n",
    "    err = np.zeros(H.size)\n",
    "    for k, m in enumerate(M):\n",
    "        for i, h in enumerate(H):\n",
    "            err[i] = Eh(f, a, b, m, h)\n",
    "        err_log = np.log(err)\n",
    "        H_log = np.log(H)\n",
    "        p = np.polyfit(H_log, err_log, 1)\n",
    "        ax.scatter(H, err)\n",
    "        ax.plot(H, np.exp(H_log * p[0] + p[1]), label=f\"{m.__name__}, ordre = {round(p[0])}\")\n",
    "        ax.legend()\n",
    "\n",
    "        "
   ]
  },
  {
   "cell_type": "code",
   "execution_count": 320,
   "metadata": {},
   "outputs": [
    {
     "data": {
      "image/png": "[encoded data removed]",
      "text/plain": [
       "<Figure size 432x432 with 1 Axes>"
      ]
     },
     "metadata": {
      "needs_background": "light"
     },
     "output_type": "display_data"
    }
   ],
   "source": [
    "\n",
    "M = [left_rect_meth2, right_rect_meth2, midle_point_meth2, trapeze_meth2, simpson_meth2]\n",
    "plot_error(f2, 1, 3, M)\n"
   ]
  },
  {
   "cell_type": "code",
   "execution_count": null,
   "metadata": {},
   "outputs": [],
   "source": []
  }
 ],
 "metadata": {
  "interpreter": {
   "hash": "8b64ecf2f1f2622ba3c2dee7a503ed6c8ee46750cd378c71fb58113ea14f1cb0"
  },
  "kernelspec": {
   "display_name": "Python 3.8.11 ('saint')",
   "language": "python",
   "name": "python3"
  },
  "language_info": {
   "codemirror_mode": {
    "name": "ipython",
    "version": 3
   },
   "file_extension": ".py",
   "mimetype": "text/x-python",
   "name": "python",
   "nbconvert_exporter": "python",
   "pygments_lexer": "ipython3",
   "version": "3.8.11"
  },
  "orig_nbformat": 4
 },
 "nbformat": 4,
 "nbformat_minor": 2
}
